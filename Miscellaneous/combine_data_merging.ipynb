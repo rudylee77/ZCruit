{
 "cells": [
  {
   "cell_type": "code",
   "execution_count": 1,
   "id": "983fd37a",
   "metadata": {},
   "outputs": [],
   "source": [
    "import pandas as pd"
   ]
  },
  {
   "cell_type": "code",
   "execution_count": 3,
   "id": "e4278b7b",
   "metadata": {},
   "outputs": [],
   "source": [
    "twenty_fifteen = pd.read_csv('combine_data/2015combine.csv')\n",
    "twenty_sixteen = pd.read_csv('combine_data/2016combine.csv')\n",
    "twenty_seveteen = pd.read_csv('combine_data/2017combine.csv')\n",
    "twenty_eighteen = pd.read_csv('combine_data/2018combine.csv')\n",
    "twenty_nineteen = pd.read_csv('combine_data/2019combine.csv')\n",
    "twenty_twenty = pd.read_csv('combine_data/2020combine.csv')"
   ]
  },
  {
   "cell_type": "code",
   "execution_count": 5,
   "id": "e40e7bd7",
   "metadata": {},
   "outputs": [
    {
     "data": {
      "text/plain": [
       "1990"
      ]
     },
     "execution_count": 5,
     "metadata": {},
     "output_type": "execute_result"
    }
   ],
   "source": [
    "twenty_fifteen.shape[0] + twenty_sixteen.shape[0] + twenty_seveteen.shape[0] + twenty_eighteen.shape[0] + twenty_nineteen.shape[0] + twenty_twenty.shape[0] "
   ]
  },
  {
   "cell_type": "code",
   "execution_count": 6,
   "id": "403f868d",
   "metadata": {},
   "outputs": [],
   "source": [
    "df = twenty_fifteen.append(twenty_sixteen)\n",
    "df = df.append(twenty_seveteen)\n",
    "df = df.append(twenty_eighteen)\n",
    "df = df.append(twenty_nineteen)\n",
    "df = df.append(twenty_twenty)"
   ]
  },
  {
   "cell_type": "code",
   "execution_count": 12,
   "id": "d6496772",
   "metadata": {},
   "outputs": [],
   "source": [
    "df.to_csv('all_combine_data.csv')"
   ]
  },
  {
   "cell_type": "code",
   "execution_count": null,
   "id": "5f2a4f6f",
   "metadata": {},
   "outputs": [],
   "source": []
  }
 ],
 "metadata": {
  "kernelspec": {
   "display_name": "Python 3",
   "language": "python",
   "name": "python3"
  },
  "language_info": {
   "codemirror_mode": {
    "name": "ipython",
    "version": 3
   },
   "file_extension": ".py",
   "mimetype": "text/x-python",
   "name": "python",
   "nbconvert_exporter": "python",
   "pygments_lexer": "ipython3",
   "version": "3.8.8"
  }
 },
 "nbformat": 4,
 "nbformat_minor": 5
}
