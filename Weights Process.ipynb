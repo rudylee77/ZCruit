{
 "cells": [
  {
   "cell_type": "markdown",
   "metadata": {},
   "source": [
    "# Weighted Average Combine Approach\n",
    "\n",
    "Using 2020 NFL Combine data to better understand positional strengths to develop a data-based athleticism score"
   ]
  },
  {
   "cell_type": "code",
   "execution_count": 7,
   "metadata": {},
   "outputs": [],
   "source": [
    "import math as math\n",
    "import numpy as np\n",
    "import pandas as pd\n",
    "import zipfile\n",
    "import os"
   ]
  },
  {
   "cell_type": "markdown",
   "metadata": {},
   "source": [
    "Our first task is reading the csv from our Combine data export found on Pro Football Reference and converting it to a usable dataframe"
   ]
  },
  {
   "cell_type": "code",
   "execution_count": 8,
   "metadata": {},
   "outputs": [
    {
     "data": {
      "text/html": [
       "<div>\n",
       "<style scoped>\n",
       "    .dataframe tbody tr th:only-of-type {\n",
       "        vertical-align: middle;\n",
       "    }\n",
       "\n",
       "    .dataframe tbody tr th {\n",
       "        vertical-align: top;\n",
       "    }\n",
       "\n",
       "    .dataframe thead th {\n",
       "        text-align: right;\n",
       "    }\n",
       "</style>\n",
       "<table border=\"1\" class=\"dataframe\">\n",
       "  <thead>\n",
       "    <tr style=\"text-align: right;\">\n",
       "      <th></th>\n",
       "      <th>Player</th>\n",
       "      <th>Pos</th>\n",
       "      <th>School</th>\n",
       "      <th>College</th>\n",
       "      <th>Ht</th>\n",
       "      <th>Wt</th>\n",
       "      <th>40yd</th>\n",
       "      <th>Vertical</th>\n",
       "      <th>Bench</th>\n",
       "      <th>Broad Jump</th>\n",
       "      <th>3Cone</th>\n",
       "      <th>Shuttle</th>\n",
       "      <th>Drafted (tm/rnd/yr)</th>\n",
       "    </tr>\n",
       "  </thead>\n",
       "  <tbody>\n",
       "    <tr>\n",
       "      <th>0</th>\n",
       "      <td>Trey Adams\\AdamTr00</td>\n",
       "      <td>OL</td>\n",
       "      <td>Washington</td>\n",
       "      <td>College Stats</td>\n",
       "      <td>6-8</td>\n",
       "      <td>318</td>\n",
       "      <td>5.60</td>\n",
       "      <td>24.5</td>\n",
       "      <td>NaN</td>\n",
       "      <td>92.0</td>\n",
       "      <td>NaN</td>\n",
       "      <td>NaN</td>\n",
       "      <td>NaN</td>\n",
       "    </tr>\n",
       "    <tr>\n",
       "      <th>1</th>\n",
       "      <td>Hakeem Adeniji\\AdenHa00</td>\n",
       "      <td>OL</td>\n",
       "      <td>Kansas</td>\n",
       "      <td>College Stats</td>\n",
       "      <td>6-4</td>\n",
       "      <td>302</td>\n",
       "      <td>5.17</td>\n",
       "      <td>34.0</td>\n",
       "      <td>26.0</td>\n",
       "      <td>115.0</td>\n",
       "      <td>NaN</td>\n",
       "      <td>NaN</td>\n",
       "      <td>Cincinnati Bengals / 6th / 180th pick / 2020</td>\n",
       "    </tr>\n",
       "    <tr>\n",
       "      <th>2</th>\n",
       "      <td>McTelvin Agim\\AgimMc00</td>\n",
       "      <td>DL</td>\n",
       "      <td>Arkansas</td>\n",
       "      <td>College Stats</td>\n",
       "      <td>6-3</td>\n",
       "      <td>309</td>\n",
       "      <td>4.98</td>\n",
       "      <td>NaN</td>\n",
       "      <td>27.0</td>\n",
       "      <td>NaN</td>\n",
       "      <td>NaN</td>\n",
       "      <td>NaN</td>\n",
       "      <td>Denver Broncos / 3rd / 95th pick / 2020</td>\n",
       "    </tr>\n",
       "    <tr>\n",
       "      <th>3</th>\n",
       "      <td>Salvon Ahmed\\AhmeSa00</td>\n",
       "      <td>RB</td>\n",
       "      <td>Washington</td>\n",
       "      <td>College Stats</td>\n",
       "      <td>5-11</td>\n",
       "      <td>197</td>\n",
       "      <td>4.62</td>\n",
       "      <td>34.5</td>\n",
       "      <td>NaN</td>\n",
       "      <td>120.0</td>\n",
       "      <td>NaN</td>\n",
       "      <td>NaN</td>\n",
       "      <td>NaN</td>\n",
       "    </tr>\n",
       "    <tr>\n",
       "      <th>4</th>\n",
       "      <td>Brandon Aiyuk\\AiyuBr00</td>\n",
       "      <td>WR</td>\n",
       "      <td>Arizona State</td>\n",
       "      <td>College Stats</td>\n",
       "      <td>6-0</td>\n",
       "      <td>205</td>\n",
       "      <td>4.50</td>\n",
       "      <td>40.0</td>\n",
       "      <td>11.0</td>\n",
       "      <td>128.0</td>\n",
       "      <td>NaN</td>\n",
       "      <td>NaN</td>\n",
       "      <td>San Francisco 49ers / 1st / 25th pick / 2020</td>\n",
       "    </tr>\n",
       "    <tr>\n",
       "      <th>...</th>\n",
       "      <td>...</td>\n",
       "      <td>...</td>\n",
       "      <td>...</td>\n",
       "      <td>...</td>\n",
       "      <td>...</td>\n",
       "      <td>...</td>\n",
       "      <td>...</td>\n",
       "      <td>...</td>\n",
       "      <td>...</td>\n",
       "      <td>...</td>\n",
       "      <td>...</td>\n",
       "      <td>...</td>\n",
       "      <td>...</td>\n",
       "    </tr>\n",
       "    <tr>\n",
       "      <th>332</th>\n",
       "      <td>D.J. Wonnum\\WonnDJ00</td>\n",
       "      <td>DL</td>\n",
       "      <td>South Carolina</td>\n",
       "      <td>College Stats</td>\n",
       "      <td>6-5</td>\n",
       "      <td>258</td>\n",
       "      <td>4.73</td>\n",
       "      <td>34.5</td>\n",
       "      <td>20.0</td>\n",
       "      <td>123.0</td>\n",
       "      <td>7.25</td>\n",
       "      <td>4.44</td>\n",
       "      <td>Minnesota Vikings / 4th / 117th pick / 2020</td>\n",
       "    </tr>\n",
       "    <tr>\n",
       "      <th>333</th>\n",
       "      <td>Dom Wood-Anderson\\WoodDo01</td>\n",
       "      <td>TE</td>\n",
       "      <td>Tennessee</td>\n",
       "      <td>College Stats</td>\n",
       "      <td>6-4</td>\n",
       "      <td>261</td>\n",
       "      <td>4.92</td>\n",
       "      <td>35.0</td>\n",
       "      <td>NaN</td>\n",
       "      <td>119.0</td>\n",
       "      <td>NaN</td>\n",
       "      <td>NaN</td>\n",
       "      <td>NaN</td>\n",
       "    </tr>\n",
       "    <tr>\n",
       "      <th>334</th>\n",
       "      <td>David Woodward\\WoodDa04</td>\n",
       "      <td>LB</td>\n",
       "      <td>Utah State</td>\n",
       "      <td>College Stats</td>\n",
       "      <td>6-2</td>\n",
       "      <td>230</td>\n",
       "      <td>4.79</td>\n",
       "      <td>33.5</td>\n",
       "      <td>16.0</td>\n",
       "      <td>114.0</td>\n",
       "      <td>7.34</td>\n",
       "      <td>4.37</td>\n",
       "      <td>NaN</td>\n",
       "    </tr>\n",
       "    <tr>\n",
       "      <th>335</th>\n",
       "      <td>Chase Young\\YounCh04</td>\n",
       "      <td>DL</td>\n",
       "      <td>Ohio State</td>\n",
       "      <td>College Stats</td>\n",
       "      <td>6-5</td>\n",
       "      <td>264</td>\n",
       "      <td>NaN</td>\n",
       "      <td>NaN</td>\n",
       "      <td>NaN</td>\n",
       "      <td>NaN</td>\n",
       "      <td>NaN</td>\n",
       "      <td>NaN</td>\n",
       "      <td>Washington Football Team / 1st / 2nd pick / 2020</td>\n",
       "    </tr>\n",
       "    <tr>\n",
       "      <th>336</th>\n",
       "      <td>Jabari Zuniga\\ZuniJa00</td>\n",
       "      <td>DL</td>\n",
       "      <td>Florida</td>\n",
       "      <td>College Stats</td>\n",
       "      <td>6-3</td>\n",
       "      <td>264</td>\n",
       "      <td>4.64</td>\n",
       "      <td>33.0</td>\n",
       "      <td>29.0</td>\n",
       "      <td>127.0</td>\n",
       "      <td>NaN</td>\n",
       "      <td>NaN</td>\n",
       "      <td>New York Jets / 3rd / 79th pick / 2020</td>\n",
       "    </tr>\n",
       "  </tbody>\n",
       "</table>\n",
       "<p>337 rows × 13 columns</p>\n",
       "</div>"
      ],
      "text/plain": [
       "                         Player Pos          School        College    Ht   Wt  \\\n",
       "0           Trey Adams\\AdamTr00  OL      Washington  College Stats   6-8  318   \n",
       "1       Hakeem Adeniji\\AdenHa00  OL          Kansas  College Stats   6-4  302   \n",
       "2        McTelvin Agim\\AgimMc00  DL        Arkansas  College Stats   6-3  309   \n",
       "3         Salvon Ahmed\\AhmeSa00  RB      Washington  College Stats  5-11  197   \n",
       "4        Brandon Aiyuk\\AiyuBr00  WR   Arizona State  College Stats   6-0  205   \n",
       "..                          ...  ..             ...            ...   ...  ...   \n",
       "332        D.J. Wonnum\\WonnDJ00  DL  South Carolina  College Stats   6-5  258   \n",
       "333  Dom Wood-Anderson\\WoodDo01  TE       Tennessee  College Stats   6-4  261   \n",
       "334     David Woodward\\WoodDa04  LB      Utah State  College Stats   6-2  230   \n",
       "335        Chase Young\\YounCh04  DL      Ohio State  College Stats   6-5  264   \n",
       "336      Jabari Zuniga\\ZuniJa00  DL         Florida  College Stats   6-3  264   \n",
       "\n",
       "     40yd  Vertical  Bench  Broad Jump  3Cone  Shuttle  \\\n",
       "0    5.60      24.5    NaN        92.0    NaN      NaN   \n",
       "1    5.17      34.0   26.0       115.0    NaN      NaN   \n",
       "2    4.98       NaN   27.0         NaN    NaN      NaN   \n",
       "3    4.62      34.5    NaN       120.0    NaN      NaN   \n",
       "4    4.50      40.0   11.0       128.0    NaN      NaN   \n",
       "..    ...       ...    ...         ...    ...      ...   \n",
       "332  4.73      34.5   20.0       123.0   7.25     4.44   \n",
       "333  4.92      35.0    NaN       119.0    NaN      NaN   \n",
       "334  4.79      33.5   16.0       114.0   7.34     4.37   \n",
       "335   NaN       NaN    NaN         NaN    NaN      NaN   \n",
       "336  4.64      33.0   29.0       127.0    NaN      NaN   \n",
       "\n",
       "                                  Drafted (tm/rnd/yr)  \n",
       "0                                                 NaN  \n",
       "1        Cincinnati Bengals / 6th / 180th pick / 2020  \n",
       "2             Denver Broncos / 3rd / 95th pick / 2020  \n",
       "3                                                 NaN  \n",
       "4        San Francisco 49ers / 1st / 25th pick / 2020  \n",
       "..                                                ...  \n",
       "332       Minnesota Vikings / 4th / 117th pick / 2020  \n",
       "333                                               NaN  \n",
       "334                                               NaN  \n",
       "335  Washington Football Team / 1st / 2nd pick / 2020  \n",
       "336            New York Jets / 3rd / 79th pick / 2020  \n",
       "\n",
       "[337 rows x 13 columns]"
      ]
     },
     "execution_count": 8,
     "metadata": {},
     "output_type": "execute_result"
    }
   ],
   "source": [
    "combine = pd.read_csv(\"combine_data/2020combine.csv\")\n",
    "combine"
   ]
  },
  {
   "cell_type": "markdown",
   "metadata": {},
   "source": [
    "Since our height is not in a functional format, we define a function `parse_ht` that is able to convert our entries as floats that we can use for our analysis"
   ]
  },
  {
   "cell_type": "code",
   "execution_count": 9,
   "metadata": {},
   "outputs": [],
   "source": [
    "def parse_ht(ht):\n",
    "    ht_ = ht.split(\"-\")\n",
    "    ft_ = float(ht_[0])\n",
    "    in_ = float(ht_[1])\n",
    "    return (12*ft_) + in_"
   ]
  },
  {
   "cell_type": "code",
   "execution_count": 10,
   "metadata": {},
   "outputs": [],
   "source": [
    "combine['HtNum'] = combine['Ht'].apply(lambda x: parse_ht(x))"
   ]
  },
  {
   "cell_type": "markdown",
   "metadata": {},
   "source": [
    "To simply the process of hard-coding every position for all the events, we create an array that has all the unique positions except Kickers (stored as `unique_positions`) and an array of the events (stored as `events`)"
   ]
  },
  {
   "cell_type": "code",
   "execution_count": 11,
   "metadata": {},
   "outputs": [],
   "source": [
    "events = [\"HtNum\", \"Wt\", \"40yd\", \"Vertical\", \"Broad Jump\", \"3Cone\", \"Shuttle\"]\n",
    "unique_positions = combine.Pos.unique()\n",
    "unique_positions = np.delete(unique_positions, 7)"
   ]
  },
  {
   "cell_type": "markdown",
   "metadata": {},
   "source": [
    "We define a function `create_position_average` that takes in a string arguement (position) and calculates the average for all the combine events for the given position"
   ]
  },
  {
   "cell_type": "code",
   "execution_count": 12,
   "metadata": {},
   "outputs": [],
   "source": [
    "def create_position_averages(pos):\n",
    "    position = combine[combine[\"Pos\"] == pos]\n",
    "    avg = []\n",
    "    for i in events:\n",
    "        avg.append(position[i].mean())\n",
    "    return avg"
   ]
  },
  {
   "cell_type": "markdown",
   "metadata": {},
   "source": [
    "An example of the function for Quarterbacks is shown below"
   ]
  },
  {
   "cell_type": "code",
   "execution_count": 13,
   "metadata": {},
   "outputs": [
    {
     "data": {
      "text/plain": [
       "[75.23529411764706,\n",
       " 222.76470588235293,\n",
       " 4.786153846153846,\n",
       " 31.923076923076923,\n",
       " 116.0,\n",
       " 7.244166666666668,\n",
       " 4.5075]"
      ]
     },
     "execution_count": 13,
     "metadata": {},
     "output_type": "execute_result"
    }
   ],
   "source": [
    "create_position_averages(\"QB\")"
   ]
  },
  {
   "cell_type": "markdown",
   "metadata": {},
   "source": [
    "Our next task involves us looking at how to convert the raw averages to functional values that we can compare against each other. To do this, we calculate the mean and standard deviation of the population (all Combine athletes) and compute a z-score for each event by position. The z-score will then be converted to a percentile that can be used to make a radar graph."
   ]
  },
  {
   "cell_type": "markdown",
   "metadata": {},
   "source": [
    "We create a list similar to the one created by our `create_position_average` function for the mean and standard deviation of the Combine athletes stored in `combine_mean` and `combine_std` respectively."
   ]
  },
  {
   "cell_type": "code",
   "execution_count": 14,
   "metadata": {},
   "outputs": [],
   "source": [
    "combine_mean = []\n",
    "combine_std = []\n",
    "for i in events:\n",
    "    combine_mean.append(combine[i].mean())\n",
    "    combine_std.append(combine[i].std())"
   ]
  },
  {
   "cell_type": "code",
   "execution_count": 15,
   "metadata": {},
   "outputs": [
    {
     "data": {
      "text/plain": [
       "[2.7168168292625676,\n",
       " 44.852984694172754,\n",
       " 0.2744519423513249,\n",
       " 4.04320094672307,\n",
       " 8.415460664781534,\n",
       " 0.3810437652996868,\n",
       " 0.2524083291467251]"
      ]
     },
     "execution_count": 15,
     "metadata": {},
     "output_type": "execute_result"
    }
   ],
   "source": [
    "combine_std"
   ]
  },
  {
   "cell_type": "markdown",
   "metadata": {},
   "source": [
    "The `compute_z` takes in the position as a string argument and uses the z-score formula below to calculate the z-score for each event by position:\n",
    "$$ z =\\frac{x_i-\\mu}{\\sigma} $$ "
   ]
  },
  {
   "cell_type": "code",
   "execution_count": 16,
   "metadata": {},
   "outputs": [],
   "source": [
    "def compute_z(pos):\n",
    "    avg = create_position_averages(pos)\n",
    "    z = []\n",
    "    for i in np.arange(7):     \n",
    "        z.append((avg[i] - combine_mean[i])/(combine_std[i]))\n",
    "    return z"
   ]
  },
  {
   "cell_type": "markdown",
   "metadata": {},
   "source": [
    "An example of the function for Quarterbacks is shown below"
   ]
  },
  {
   "cell_type": "code",
   "execution_count": 17,
   "metadata": {},
   "outputs": [
    {
     "data": {
      "text/plain": [
       "[0.5442463193902192,\n",
       " -0.39974276534111314,\n",
       " 0.17826575142885678,\n",
       " -0.4033742320536672,\n",
       " -0.34604568985754813,\n",
       " -0.21588571249081145,\n",
       " 0.18694906051444668]"
      ]
     },
     "execution_count": 17,
     "metadata": {},
     "output_type": "execute_result"
    }
   ],
   "source": [
    "compute_z(\"QB\")"
   ]
  },
  {
   "cell_type": "markdown",
   "metadata": {},
   "source": [
    "The `z_to_tile` converts the z-score to appropriate the percentile"
   ]
  },
  {
   "cell_type": "code",
   "execution_count": 18,
   "metadata": {},
   "outputs": [],
   "source": [
    "def z_to_tile(z_score):\n",
    "    return (.5 * (math.erf(z_score / 2 ** .5) + 1)) * 100"
   ]
  },
  {
   "cell_type": "markdown",
   "metadata": {},
   "source": [
    "The last thing we do is apply these functions appropriately to get our final percentiles by position. We will print these out and manually add them to our Google Sheets to do further analysis"
   ]
  },
  {
   "cell_type": "code",
   "execution_count": 19,
   "metadata": {},
   "outputs": [
    {
     "name": "stdout",
     "output_type": "stream",
     "text": [
      "[84.53840154231358, 95.21086716980048, 95.42932163760082, 12.499345679627, 7.8958677124236765, 93.2649217817442, 92.00210455758344]\n",
      "[71.55470102482073, 84.05014719133568, 75.93785463008909, 21.13585497765763, 28.804052236835187, 75.39110953069952, 73.00109994595556]\n",
      "[6.76960009573771, 26.45638433348837, 26.090790055527545, 67.21902318649876, 62.99493463321713, 28.098505769852107, 23.98019369119286]\n",
      "[41.62124358233166, 21.44884585191573, 20.940063177123854, 73.88860221481143, 71.70795297999535, 30.64095091880974, 37.45715128188315]\n",
      "[17.60459345248237, 14.569719154652333, 18.991969942953478, 74.0921093554199, 78.990108198, 20.01954589189907, 15.7716558128355]\n",
      "[80.58007609022046, 58.609163512563015, 52.36810697760181, 54.391769755096774, 41.32101848206165, 37.690229330494084, 37.17100901092647]\n",
      "[54.23249662797572, 49.30158083017649, 39.808179624942895, 55.65476855252203, 62.150273513992325, 27.229180101764623, 27.02044935643758]\n",
      "[25.43861639165418, 21.834334425291363, 25.686481357211548, 71.91213642115444, 77.85167770578636, 12.821850646160616, 17.052862954415005]\n",
      "[70.68640093167409, 34.46729951063801, 57.07428628147995, 34.33364700399576, 36.465418894445136, 41.4538417142212, 57.41497137479873]\n",
      "[35.06074693499986, 21.030512383319483, 63.232771298938204, 46.18402309421133, 13.169092727177311, 21.83026688923781, 44.43686010702668]\n",
      "[73.94590831902718, 42.31500636908914, 74.14211194468896, 10.564982712639653, 36.465418894445136, 44.631873640698885, 40.55728992905943]\n"
     ]
    }
   ],
   "source": [
    "for i in unique_positions:\n",
    "    tile = []\n",
    "    z = compute_z(i)\n",
    "    for j in z:\n",
    "        tile.append(z_to_tile(j))\n",
    "    print(tile)"
   ]
  }
 ],
 "metadata": {
  "kernelspec": {
   "display_name": "Python 3",
   "language": "python",
   "name": "python3"
  },
  "language_info": {
   "codemirror_mode": {
    "name": "ipython",
    "version": 3
   },
   "file_extension": ".py",
   "mimetype": "text/x-python",
   "name": "python",
   "nbconvert_exporter": "python",
   "pygments_lexer": "ipython3",
   "version": "3.8.8"
  }
 },
 "nbformat": 4,
 "nbformat_minor": 4
}
